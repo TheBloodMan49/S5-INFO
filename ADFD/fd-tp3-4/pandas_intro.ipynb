{
 "cells": [
  {
   "cell_type": "markdown",
   "metadata": {},
   "source": [
    "# <center> Introduction à la bibliothèque Pandas</center>\n",
    "<center>\n",
    "3INFO - Département Informatique - INSA Rennes<br> <br>\n",
    "</center>"
   ]
  },
  {
   "cell_type": "markdown",
   "metadata": {},
   "source": [
    "Ce document est une introduction à la librairie python `pandas` (https://pandas.pydata.org/pandas-docs/stable/) pour le TP de fouille de données.  \n",
    "<BR>\n",
    "Remarque : Ce document n'a pas vocation à être exhaustif en ce qui concerne la bibliothèque Pandas, mais donne un aperçu des éléments nécessaires à la réalisation du TP."
   ]
  },
  {
   "cell_type": "code",
   "execution_count": 1,
   "metadata": {},
   "outputs": [],
   "source": [
    "# Avant de commencer, importons les librairie nécessaires\n",
    "import pandas as pd\n",
    "import numpy as np"
   ]
  },
  {
   "cell_type": "markdown",
   "metadata": {},
   "source": [
    "# <font color=\"blue\">DataFrame et Series</font>\n",
    "Pandas est une librairie permettant de faire facilement de la manipulation de gros jeux de données. Pour cela, pandas utilise principalement deux types d'objets : les **`DataFrame`** et les **`Series`**.  \n",
    "Les DataFrame sont des tableaux à deux dimensions, pouvant contenir des objets de type hétérogène.  \n",
    "Les Series sont des vecteurs.\n",
    "\n",
    "Dans ce document nous allons travailler avec le jeu de données suivant :"
   ]
  },
  {
   "cell_type": "code",
   "execution_count": 2,
   "metadata": {},
   "outputs": [
    {
     "data": {
      "text/html": [
       "<div>\n",
       "<style scoped>\n",
       "    .dataframe tbody tr th:only-of-type {\n",
       "        vertical-align: middle;\n",
       "    }\n",
       "\n",
       "    .dataframe tbody tr th {\n",
       "        vertical-align: top;\n",
       "    }\n",
       "\n",
       "    .dataframe thead th {\n",
       "        text-align: right;\n",
       "    }\n",
       "</style>\n",
       "<table border=\"1\" class=\"dataframe\">\n",
       "  <thead>\n",
       "    <tr style=\"text-align: right;\">\n",
       "      <th></th>\n",
       "      <th>Region</th>\n",
       "      <th>Moons</th>\n",
       "      <th>Diameter</th>\n",
       "      <th>Breathable</th>\n",
       "    </tr>\n",
       "  </thead>\n",
       "  <tbody>\n",
       "    <tr>\n",
       "      <th>Coruscant</th>\n",
       "      <td>core worlds</td>\n",
       "      <td>4</td>\n",
       "      <td>12.240</td>\n",
       "      <td>True</td>\n",
       "    </tr>\n",
       "    <tr>\n",
       "      <th>Kashyyyk</th>\n",
       "      <td>mid rim</td>\n",
       "      <td>3</td>\n",
       "      <td>12.765</td>\n",
       "      <td>True</td>\n",
       "    </tr>\n",
       "    <tr>\n",
       "      <th>Corellia</th>\n",
       "      <td>core worlds</td>\n",
       "      <td>2</td>\n",
       "      <td>NaN</td>\n",
       "      <td>True</td>\n",
       "    </tr>\n",
       "    <tr>\n",
       "      <th>Dagobah</th>\n",
       "      <td>outer rim</td>\n",
       "      <td>0</td>\n",
       "      <td>14.410</td>\n",
       "      <td>True</td>\n",
       "    </tr>\n",
       "    <tr>\n",
       "      <th>Yavin</th>\n",
       "      <td>outer rim</td>\n",
       "      <td>26</td>\n",
       "      <td>200000.000</td>\n",
       "      <td>False</td>\n",
       "    </tr>\n",
       "    <tr>\n",
       "      <th>Geonosis</th>\n",
       "      <td>outer rim</td>\n",
       "      <td>15</td>\n",
       "      <td>11.370</td>\n",
       "      <td>True</td>\n",
       "    </tr>\n",
       "  </tbody>\n",
       "</table>\n",
       "</div>"
      ],
      "text/plain": [
       "                Region  Moons    Diameter  Breathable\n",
       "Coruscant  core worlds      4      12.240        True\n",
       "Kashyyyk       mid rim      3      12.765        True\n",
       "Corellia   core worlds      2         NaN        True\n",
       "Dagobah      outer rim      0      14.410        True\n",
       "Yavin        outer rim     26  200000.000       False\n",
       "Geonosis     outer rim     15      11.370        True"
      ]
     },
     "execution_count": 2,
     "metadata": {},
     "output_type": "execute_result"
    }
   ],
   "source": [
    "planets = pd.DataFrame(data = [[\"core worlds\", 4, 12.240, True], [\"mid rim\", 3, 12.765, True], [\"core worlds\", 2, np.nan, True], [\"outer rim\", 0, 14.410, True], [\"outer rim\", 26, 200000, False], [\"outer rim\", 15, 11.370, True]],\n",
    "                      index = [\"Coruscant\", \"Kashyyyk\", \"Corellia\", \"Dagobah\", \"Yavin\", \"Geonosis\"],\n",
    "                       columns = [\"Region\", \"Moons\", \"Diameter\", \"Breathable\"]\n",
    "                      )\n",
    "planets"
   ]
  },
  {
   "cell_type": "code",
   "execution_count": 3,
   "metadata": {},
   "outputs": [
    {
     "data": {
      "text/plain": [
       "0    0.518991\n",
       "1   -0.377297\n",
       "2   -0.229304\n",
       "3   -0.035802\n",
       "4    2.005717\n",
       "5   -0.491267\n",
       "dtype: float64"
      ]
     },
     "execution_count": 3,
     "metadata": {},
     "output_type": "execute_result"
    }
   ],
   "source": [
    "s = pd.Series(np.random.randn(6))\n",
    "s"
   ]
  },
  {
   "cell_type": "markdown",
   "metadata": {},
   "source": [
    "Les DataFrame et les Series sont tous les deux composés de deux parties : l'index (identifiant de ligne) et les valeurs.  \n",
    "Les index peuvent être multiples (appelés `MultiIndex`), mais lors du TP nous nous limiterons aux index simples (i.e. un seul index, avec une valeur par ligne)."
   ]
  },
  {
   "cell_type": "code",
   "execution_count": 4,
   "metadata": {},
   "outputs": [
    {
     "name": "stdout",
     "output_type": "stream",
     "text": [
      "Index(['Coruscant', 'Kashyyyk', 'Corellia', 'Dagobah', 'Yavin', 'Geonosis'], dtype='object')\n",
      "Index(['Region', 'Moons', 'Diameter', 'Breathable'], dtype='object')\n",
      "RangeIndex(start=0, stop=6, step=1)\n",
      "[ 0.51899087 -0.37729726 -0.2293041  -0.03580162  2.00571672 -0.49126749]\n"
     ]
    }
   ],
   "source": [
    "print(planets.index) # Index du DataFrame (identifiants des lignes)\n",
    "print(planets.columns) # Noms des colonnes du DataFrame\n",
    "\n",
    "print(s.index) # Index de la Series\n",
    "print(s.values) # Valeurs de la Series, sous forme de vecteur"
   ]
  },
  {
   "cell_type": "markdown",
   "metadata": {},
   "source": [
    "Pour afficher la taille d'un DataFrame ou d'une Series, la fonction standard `len()` de python est utilisée."
   ]
  },
  {
   "cell_type": "code",
   "execution_count": 5,
   "metadata": {},
   "outputs": [
    {
     "name": "stdout",
     "output_type": "stream",
     "text": [
      "6\n",
      "6\n"
     ]
    }
   ],
   "source": [
    "print(len(planets))\n",
    "print(len(s))"
   ]
  },
  {
   "cell_type": "markdown",
   "metadata": {},
   "source": [
    "La méthode `head(n)` permet d'afficher les n premiers éléments d'une Series ou d'un DataFrame (5 par défaut)."
   ]
  },
  {
   "cell_type": "code",
   "execution_count": 6,
   "metadata": {},
   "outputs": [
    {
     "data": {
      "text/html": [
       "<div>\n",
       "<style scoped>\n",
       "    .dataframe tbody tr th:only-of-type {\n",
       "        vertical-align: middle;\n",
       "    }\n",
       "\n",
       "    .dataframe tbody tr th {\n",
       "        vertical-align: top;\n",
       "    }\n",
       "\n",
       "    .dataframe thead th {\n",
       "        text-align: right;\n",
       "    }\n",
       "</style>\n",
       "<table border=\"1\" class=\"dataframe\">\n",
       "  <thead>\n",
       "    <tr style=\"text-align: right;\">\n",
       "      <th></th>\n",
       "      <th>Region</th>\n",
       "      <th>Moons</th>\n",
       "      <th>Diameter</th>\n",
       "      <th>Breathable</th>\n",
       "    </tr>\n",
       "  </thead>\n",
       "  <tbody>\n",
       "    <tr>\n",
       "      <th>Coruscant</th>\n",
       "      <td>core worlds</td>\n",
       "      <td>4</td>\n",
       "      <td>12.240</td>\n",
       "      <td>True</td>\n",
       "    </tr>\n",
       "    <tr>\n",
       "      <th>Kashyyyk</th>\n",
       "      <td>mid rim</td>\n",
       "      <td>3</td>\n",
       "      <td>12.765</td>\n",
       "      <td>True</td>\n",
       "    </tr>\n",
       "    <tr>\n",
       "      <th>Corellia</th>\n",
       "      <td>core worlds</td>\n",
       "      <td>2</td>\n",
       "      <td>NaN</td>\n",
       "      <td>True</td>\n",
       "    </tr>\n",
       "    <tr>\n",
       "      <th>Dagobah</th>\n",
       "      <td>outer rim</td>\n",
       "      <td>0</td>\n",
       "      <td>14.410</td>\n",
       "      <td>True</td>\n",
       "    </tr>\n",
       "    <tr>\n",
       "      <th>Yavin</th>\n",
       "      <td>outer rim</td>\n",
       "      <td>26</td>\n",
       "      <td>200000.000</td>\n",
       "      <td>False</td>\n",
       "    </tr>\n",
       "  </tbody>\n",
       "</table>\n",
       "</div>"
      ],
      "text/plain": [
       "                Region  Moons    Diameter  Breathable\n",
       "Coruscant  core worlds      4      12.240        True\n",
       "Kashyyyk       mid rim      3      12.765        True\n",
       "Corellia   core worlds      2         NaN        True\n",
       "Dagobah      outer rim      0      14.410        True\n",
       "Yavin        outer rim     26  200000.000       False"
      ]
     },
     "execution_count": 6,
     "metadata": {},
     "output_type": "execute_result"
    }
   ],
   "source": [
    "planets.head()"
   ]
  },
  {
   "cell_type": "markdown",
   "metadata": {},
   "source": [
    "La méthode `describe()` permet d'afficher des statistiques sur les éléments d'une Series ou d'un DataFrame."
   ]
  },
  {
   "cell_type": "code",
   "execution_count": 7,
   "metadata": {},
   "outputs": [
    {
     "data": {
      "text/html": [
       "<div>\n",
       "<style scoped>\n",
       "    .dataframe tbody tr th:only-of-type {\n",
       "        vertical-align: middle;\n",
       "    }\n",
       "\n",
       "    .dataframe tbody tr th {\n",
       "        vertical-align: top;\n",
       "    }\n",
       "\n",
       "    .dataframe thead th {\n",
       "        text-align: right;\n",
       "    }\n",
       "</style>\n",
       "<table border=\"1\" class=\"dataframe\">\n",
       "  <thead>\n",
       "    <tr style=\"text-align: right;\">\n",
       "      <th></th>\n",
       "      <th>Moons</th>\n",
       "      <th>Diameter</th>\n",
       "    </tr>\n",
       "  </thead>\n",
       "  <tbody>\n",
       "    <tr>\n",
       "      <th>count</th>\n",
       "      <td>6.000000</td>\n",
       "      <td>5.000000</td>\n",
       "    </tr>\n",
       "    <tr>\n",
       "      <th>mean</th>\n",
       "      <td>8.333333</td>\n",
       "      <td>40010.157000</td>\n",
       "    </tr>\n",
       "    <tr>\n",
       "      <th>std</th>\n",
       "      <td>10.132456</td>\n",
       "      <td>89437.041171</td>\n",
       "    </tr>\n",
       "    <tr>\n",
       "      <th>min</th>\n",
       "      <td>0.000000</td>\n",
       "      <td>11.370000</td>\n",
       "    </tr>\n",
       "    <tr>\n",
       "      <th>25%</th>\n",
       "      <td>2.250000</td>\n",
       "      <td>12.240000</td>\n",
       "    </tr>\n",
       "    <tr>\n",
       "      <th>50%</th>\n",
       "      <td>3.500000</td>\n",
       "      <td>12.765000</td>\n",
       "    </tr>\n",
       "    <tr>\n",
       "      <th>75%</th>\n",
       "      <td>12.250000</td>\n",
       "      <td>14.410000</td>\n",
       "    </tr>\n",
       "    <tr>\n",
       "      <th>max</th>\n",
       "      <td>26.000000</td>\n",
       "      <td>200000.000000</td>\n",
       "    </tr>\n",
       "  </tbody>\n",
       "</table>\n",
       "</div>"
      ],
      "text/plain": [
       "           Moons       Diameter\n",
       "count   6.000000       5.000000\n",
       "mean    8.333333   40010.157000\n",
       "std    10.132456   89437.041171\n",
       "min     0.000000      11.370000\n",
       "25%     2.250000      12.240000\n",
       "50%     3.500000      12.765000\n",
       "75%    12.250000      14.410000\n",
       "max    26.000000  200000.000000"
      ]
     },
     "execution_count": 7,
     "metadata": {},
     "output_type": "execute_result"
    }
   ],
   "source": [
    "planets.describe()"
   ]
  },
  {
   "cell_type": "markdown",
   "metadata": {},
   "source": [
    "# <font color=\"blue\">Modifier/Ajouter des colonnes à un DataFrame</font>\n",
    "Pour modifier les valeurs d'une colonne, il suffit de lui assigner une nouvelle valeur depuis une liste, Series, ou similaire.  \n",
    "Si la colonne n'existe pas, elle sera créée."
   ]
  },
  {
   "cell_type": "code",
   "execution_count": 8,
   "metadata": {},
   "outputs": [
    {
     "data": {
      "text/html": [
       "<div>\n",
       "<style scoped>\n",
       "    .dataframe tbody tr th:only-of-type {\n",
       "        vertical-align: middle;\n",
       "    }\n",
       "\n",
       "    .dataframe tbody tr th {\n",
       "        vertical-align: top;\n",
       "    }\n",
       "\n",
       "    .dataframe thead th {\n",
       "        text-align: right;\n",
       "    }\n",
       "</style>\n",
       "<table border=\"1\" class=\"dataframe\">\n",
       "  <thead>\n",
       "    <tr style=\"text-align: right;\">\n",
       "      <th></th>\n",
       "      <th>Region</th>\n",
       "      <th>Moons</th>\n",
       "      <th>Diameter</th>\n",
       "      <th>Breathable</th>\n",
       "      <th>Random value</th>\n",
       "    </tr>\n",
       "  </thead>\n",
       "  <tbody>\n",
       "    <tr>\n",
       "      <th>Coruscant</th>\n",
       "      <td>core worlds</td>\n",
       "      <td>4</td>\n",
       "      <td>12.240</td>\n",
       "      <td>True</td>\n",
       "      <td>0.518991</td>\n",
       "    </tr>\n",
       "    <tr>\n",
       "      <th>Kashyyyk</th>\n",
       "      <td>mid rim</td>\n",
       "      <td>3</td>\n",
       "      <td>12.765</td>\n",
       "      <td>True</td>\n",
       "      <td>-0.377297</td>\n",
       "    </tr>\n",
       "    <tr>\n",
       "      <th>Corellia</th>\n",
       "      <td>core worlds</td>\n",
       "      <td>2</td>\n",
       "      <td>NaN</td>\n",
       "      <td>True</td>\n",
       "      <td>-0.229304</td>\n",
       "    </tr>\n",
       "    <tr>\n",
       "      <th>Dagobah</th>\n",
       "      <td>outer rim</td>\n",
       "      <td>0</td>\n",
       "      <td>14.410</td>\n",
       "      <td>True</td>\n",
       "      <td>-0.035802</td>\n",
       "    </tr>\n",
       "    <tr>\n",
       "      <th>Yavin</th>\n",
       "      <td>outer rim</td>\n",
       "      <td>26</td>\n",
       "      <td>200000.000</td>\n",
       "      <td>False</td>\n",
       "      <td>2.005717</td>\n",
       "    </tr>\n",
       "    <tr>\n",
       "      <th>Geonosis</th>\n",
       "      <td>outer rim</td>\n",
       "      <td>15</td>\n",
       "      <td>11.370</td>\n",
       "      <td>True</td>\n",
       "      <td>-0.491267</td>\n",
       "    </tr>\n",
       "  </tbody>\n",
       "</table>\n",
       "</div>"
      ],
      "text/plain": [
       "                Region  Moons    Diameter  Breathable  Random value\n",
       "Coruscant  core worlds      4      12.240        True      0.518991\n",
       "Kashyyyk       mid rim      3      12.765        True     -0.377297\n",
       "Corellia   core worlds      2         NaN        True     -0.229304\n",
       "Dagobah      outer rim      0      14.410        True     -0.035802\n",
       "Yavin        outer rim     26  200000.000       False      2.005717\n",
       "Geonosis     outer rim     15      11.370        True     -0.491267"
      ]
     },
     "execution_count": 8,
     "metadata": {},
     "output_type": "execute_result"
    }
   ],
   "source": [
    "planets[\"Random value\"] = s.values\n",
    "planets"
   ]
  },
  {
   "cell_type": "markdown",
   "metadata": {},
   "source": [
    "# <font color=\"blue\">Sélection/Projection de DataFrame</font>"
   ]
  },
  {
   "cell_type": "markdown",
   "metadata": {},
   "source": [
    "## Projection sur certaines colonnes\n",
    "Pour projeter un DataFrame sur un sous-ensemble de ses colonnes, la syntaxe suivante est utilisée:"
   ]
  },
  {
   "cell_type": "code",
   "execution_count": 9,
   "metadata": {},
   "outputs": [
    {
     "name": "stdout",
     "output_type": "stream",
     "text": [
      "Coruscant    core worlds\n",
      "Kashyyyk         mid rim\n",
      "Corellia     core worlds\n",
      "Dagobah        outer rim\n",
      "Yavin          outer rim\n",
      "Geonosis       outer rim\n",
      "Name: Region, dtype: object\n",
      "\n",
      "           Moons    Diameter\n",
      "Coruscant      4      12.240\n",
      "Kashyyyk       3      12.765\n",
      "Corellia       2         NaN\n",
      "Dagobah        0      14.410\n",
      "Yavin         26  200000.000\n",
      "Geonosis      15      11.370\n"
     ]
    }
   ],
   "source": [
    "print(planets[\"Region\"]) # Retourne une Series représentant la colonne\n",
    "# Syntaxe alternative:\n",
    "#print(planets.Region)\n",
    "print()\n",
    "print(planets[[\"Moons\", \"Diameter\"]]) # Retourne un DataFrame avec seulement les colonnes sélectionnées"
   ]
  },
  {
   "cell_type": "markdown",
   "metadata": {},
   "source": [
    "## Sélection de lignes par rapport à une valeur dans une colonne\n",
    "Pour sélectionner seulement les lignes ayant une certaine valeur dans une colonne, il faut adopter la procédure suivante:"
   ]
  },
  {
   "cell_type": "code",
   "execution_count": 10,
   "metadata": {},
   "outputs": [
    {
     "name": "stdout",
     "output_type": "stream",
     "text": [
      "             Region  Moons   Diameter  Breathable  Random value\n",
      "Dagobah   outer rim      0      14.41        True     -0.035802\n",
      "Yavin     outer rim     26  200000.00       False      2.005717\n",
      "Geonosis  outer rim     15      11.37        True     -0.491267\n"
     ]
    }
   ],
   "source": [
    "mask = planets[\"Region\"] == \"outer rim\" # Création d'une Series de booléens disant quelles lignes ont la bonne valeur\n",
    "#print(masque)\n",
    "outer_rim_planets = planets[mask] # Application du masque\n",
    "print(outer_rim_planets)\n",
    "\n",
    "# Bien sûr, on peut tout combiner en une seule instruction:\n",
    "#outer_rim_planets = planets[planets[\"Region\"] == \"outer rim\"]\n",
    "#print(outer_rim_planets)"
   ]
  },
  {
   "cell_type": "markdown",
   "metadata": {},
   "source": [
    "## Sélection de lignes avec un prédicat complexe\n",
    "Si la sélection précédente ne suffit pas, il est possible d'en faire de plus complexes en utilisant une fonction qui crée le masque."
   ]
  },
  {
   "cell_type": "code",
   "execution_count": 11,
   "metadata": {},
   "outputs": [
    {
     "data": {
      "text/html": [
       "<div>\n",
       "<style scoped>\n",
       "    .dataframe tbody tr th:only-of-type {\n",
       "        vertical-align: middle;\n",
       "    }\n",
       "\n",
       "    .dataframe tbody tr th {\n",
       "        vertical-align: top;\n",
       "    }\n",
       "\n",
       "    .dataframe thead th {\n",
       "        text-align: right;\n",
       "    }\n",
       "</style>\n",
       "<table border=\"1\" class=\"dataframe\">\n",
       "  <thead>\n",
       "    <tr style=\"text-align: right;\">\n",
       "      <th></th>\n",
       "      <th>Region</th>\n",
       "      <th>Moons</th>\n",
       "      <th>Diameter</th>\n",
       "      <th>Breathable</th>\n",
       "      <th>Random value</th>\n",
       "    </tr>\n",
       "  </thead>\n",
       "  <tbody>\n",
       "    <tr>\n",
       "      <th>Kashyyyk</th>\n",
       "      <td>mid rim</td>\n",
       "      <td>3</td>\n",
       "      <td>12.765</td>\n",
       "      <td>True</td>\n",
       "      <td>-0.377297</td>\n",
       "    </tr>\n",
       "    <tr>\n",
       "      <th>Dagobah</th>\n",
       "      <td>outer rim</td>\n",
       "      <td>0</td>\n",
       "      <td>14.410</td>\n",
       "      <td>True</td>\n",
       "      <td>-0.035802</td>\n",
       "    </tr>\n",
       "    <tr>\n",
       "      <th>Yavin</th>\n",
       "      <td>outer rim</td>\n",
       "      <td>26</td>\n",
       "      <td>200000.000</td>\n",
       "      <td>False</td>\n",
       "      <td>2.005717</td>\n",
       "    </tr>\n",
       "    <tr>\n",
       "      <th>Geonosis</th>\n",
       "      <td>outer rim</td>\n",
       "      <td>15</td>\n",
       "      <td>11.370</td>\n",
       "      <td>True</td>\n",
       "      <td>-0.491267</td>\n",
       "    </tr>\n",
       "  </tbody>\n",
       "</table>\n",
       "</div>"
      ],
      "text/plain": [
       "             Region  Moons    Diameter  Breathable  Random value\n",
       "Kashyyyk    mid rim      3      12.765        True     -0.377297\n",
       "Dagobah   outer rim      0      14.410        True     -0.035802\n",
       "Yavin     outer rim     26  200000.000       False      2.005717\n",
       "Geonosis  outer rim     15      11.370        True     -0.491267"
      ]
     },
     "execution_count": 11,
     "metadata": {},
     "output_type": "execute_result"
    }
   ],
   "source": [
    "def keep(row):\n",
    "    return row[\"Region\"].endswith(\"rim\")\n",
    "\n",
    "mask = planets.apply(keep, axis = 1)\n",
    "planets[mask]"
   ]
  },
  {
   "cell_type": "markdown",
   "metadata": {},
   "source": [
    "# <font color=\"blue\">Valeurs uniques et comptage de valeurs</font>"
   ]
  },
  {
   "cell_type": "markdown",
   "metadata": {},
   "source": [
    "## Valeurs uniques\n",
    "Pandas permet de calculer, dans un DataFrame ou une Series, combien de valeurs différentes apparaissent dans les colonnes et quelles sont ces valeurs.  \n",
    "Dans l'exemple si dessous, on constate que, dans le dataframe planets, 3 valeurs différentes sont associées à l'attribut Region : 'core worlds', 'mid rim' et 'outer rim'."
   ]
  },
  {
   "cell_type": "code",
   "execution_count": 12,
   "metadata": {},
   "outputs": [
    {
     "name": "stdout",
     "output_type": "stream",
     "text": [
      "Region          3\n",
      "Moons           6\n",
      "Diameter        5\n",
      "Breathable      2\n",
      "Random value    6\n",
      "dtype: int64\n",
      "\n",
      "['core worlds' 'mid rim' 'outer rim']\n"
     ]
    }
   ],
   "source": [
    "print(planets.nunique())\n",
    "print()\n",
    "print(planets[\"Region\"].unique())"
   ]
  },
  {
   "cell_type": "markdown",
   "metadata": {},
   "source": [
    "## Comptage de valeurs\n",
    "Pandas permet de compter combien de fois une certaine valeur apparaît dans une Series."
   ]
  },
  {
   "cell_type": "code",
   "execution_count": 13,
   "metadata": {},
   "outputs": [
    {
     "name": "stdout",
     "output_type": "stream",
     "text": [
      "outer rim      3\n",
      "core worlds    2\n",
      "mid rim        1\n",
      "Name: Region, dtype: int64\n"
     ]
    }
   ],
   "source": [
    "regions = planets[\"Region\"] # Création d'une Series representant la colonne \"Region\" du DataFrame\n",
    "print(regions.value_counts())"
   ]
  },
  {
   "cell_type": "markdown",
   "metadata": {},
   "source": [
    "# <font color=\"blue\">Groupby : regroupement de lignes</font>\n",
    "Il est possible de regrouper ensemble toutes les lignes ayant la même valeur sur une (ou plusieurs) colonnes, comme en SQL."
   ]
  },
  {
   "cell_type": "code",
   "execution_count": 14,
   "metadata": {},
   "outputs": [],
   "source": [
    "groups = planets.groupby(\"Region\") # Création des regroupements"
   ]
  },
  {
   "cell_type": "markdown",
   "metadata": {},
   "source": [
    "Une fois les groupes créés, il faut les transformer en un nouveau DataFrame ou une nouvelle Series en appliquant une fonction de transformation sur chaque groupe.\n",
    "\n",
    "Voici une liste non exaustive de fonctions utiles :"
   ]
  },
  {
   "cell_type": "code",
   "execution_count": 15,
   "metadata": {},
   "outputs": [
    {
     "name": "stdout",
     "output_type": "stream",
     "text": [
      "Region\n",
      "core worlds    2\n",
      "mid rim        1\n",
      "outer rim      3\n",
      "dtype: int64\n",
      "                 Moons   Diameter  Breathable  Random value\n",
      "Region                                                     \n",
      "core worlds   3.000000     12.240    1.000000      0.144843\n",
      "mid rim       3.000000     12.765    1.000000     -0.377297\n",
      "outer rim    13.666667  66675.260    0.666667      0.492883\n",
      "             Moons  Diameter  Breathable  Random value\n",
      "Region                                                \n",
      "core worlds      4    12.240        True      0.518991\n",
      "mid rim          3    12.765        True     -0.377297\n",
      "outer rim        0    14.410        True     -0.035802\n"
     ]
    }
   ],
   "source": [
    "print(groups.size()) # Donne la taille de chaque groupe (i.e. le nombre de lignes appartenant à ce groupe)\n",
    "print(groups.mean()) # Donne la moyenne de chaque colonne, calculée sur les éléments du groupe seulement\n",
    "print(groups.first()) # Ne garde que la première ligne appartenant à chaque groupe"
   ]
  },
  {
   "cell_type": "markdown",
   "metadata": {},
   "source": [
    "# <font color=\"blue\">Itérer sur un DataFrame</font>\n",
    "De manière générale, itérer sur un DataFrame est plus lent que d'appliquer des méthodes sur des colonnes entières. Mais parfois il est nécessaire de le faire."
   ]
  },
  {
   "cell_type": "code",
   "execution_count": 16,
   "metadata": {},
   "outputs": [
    {
     "name": "stdout",
     "output_type": "stream",
     "text": [
      "Region\n",
      "Moons\n",
      "Diameter\n",
      "Breathable\n",
      "Random value\n",
      "<class 'str'> <class 'pandas.core.series.Series'>\n",
      "<class 'str'> <class 'pandas.core.series.Series'>\n",
      "<class 'str'> <class 'pandas.core.series.Series'>\n",
      "<class 'str'> <class 'pandas.core.series.Series'>\n",
      "<class 'str'> <class 'pandas.core.series.Series'>\n",
      "<class 'str'> <class 'pandas.core.series.Series'>\n"
     ]
    }
   ],
   "source": [
    "# Une boucle for renvoie les noms des colonnes (comme l'itération sur un dictionnaire python qui renvoie les clés)\n",
    "for column_name in planets:\n",
    "    print(column_name)\n",
    "\n",
    "# La méthode iterrows permet d'itérer sur les lignes, en récupérant des couples index, ligne\n",
    "for index, row in planets.iterrows():\n",
    "    print(type(index), type(row))"
   ]
  }
 ],
 "metadata": {
  "kernelspec": {
   "display_name": "Python 3 (ipykernel)",
   "language": "python",
   "name": "python3"
  },
  "language_info": {
   "codemirror_mode": {
    "name": "ipython",
    "version": 3
   },
   "file_extension": ".py",
   "mimetype": "text/x-python",
   "name": "python",
   "nbconvert_exporter": "python",
   "pygments_lexer": "ipython3",
   "version": "3.11.6"
  }
 },
 "nbformat": 4,
 "nbformat_minor": 4
}
